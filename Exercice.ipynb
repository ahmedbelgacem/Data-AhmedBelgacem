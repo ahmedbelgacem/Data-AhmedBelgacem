{
 "cells": [
  {
   "cell_type": "markdown",
   "metadata": {},
   "source": [
    "# Exercice crunching de data - Tic Tac Trip"
   ]
  },
  {
   "cell_type": "markdown",
   "metadata": {},
   "source": [
    "Tic Tac Trip est un comparateur permettant de réserver des voyages à travers l'europe en combinant différents moyens de transport sur un même trajet.  \n",
    "Le but de l'exercice est de :  \n",
    "   -extraire des infos intéressantes type prix min,moyen et max, durée min/max/moyenne par trajet  \n",
    "   -afficher les prix moyen et durée selon le train, le bus et le covoit selon la distance du trajet (0-200km, 201-800km, 800-2000km, 2000+km) "
   ]
  },
  {
   "cell_type": "markdown",
   "metadata": {},
   "source": [
    "### Imports:\n",
    "On aura besoin de geopy pour le calcul de la distance à partir de latitude et de longitude"
   ]
  },
  {
   "cell_type": "code",
   "execution_count": 1,
   "metadata": {},
   "outputs": [
    {
     "name": "stdout",
     "output_type": "stream",
     "text": [
      "Requirement already satisfied: geopy in c:\\users\\ahmed\\anaconda3\\lib\\site-packages (2.0.0)\n",
      "Requirement already satisfied: geographiclib<2,>=1.49 in c:\\users\\ahmed\\anaconda3\\lib\\site-packages (from geopy) (1.50)\n"
     ]
    }
   ],
   "source": [
    "!pip install geopy"
   ]
  },
  {
   "cell_type": "code",
   "execution_count": 2,
   "metadata": {},
   "outputs": [],
   "source": [
    "import pandas as pd\n",
    "import numpy as np\n",
    "import matplotlib.pyplot as plt\n",
    "import seaborn as sns\n",
    "import plotly.graph_objects as go\n",
    "from datetime import timedelta\n",
    "from geopy import distance"
   ]
  },
  {
   "cell_type": "markdown",
   "metadata": {},
   "source": [
    "### Importation des données:\n",
    "L'exercice propose 4 dataset sous format csv:  \n",
    "-ticket_data.csv: Les données relatives au propositions de tickets  \n",
    "-cities.csv: Les villes desservies par TicTacTrip  \n",
    "-stations.csv: Les stations desservies par TicTacTrip  \n",
    "-providers.csv: Les données relatives au différents providers  \n",
    "On va commencer par importer les données et essayer de les comprendre en affichant les 5 premières lignes ainsi que les types des colonnes"
   ]
  },
  {
   "cell_type": "code",
   "execution_count": 3,
   "metadata": {},
   "outputs": [],
   "source": [
    "ticket_data = pd.read_csv('./data/ticket_data.csv')"
   ]
  },
  {
   "cell_type": "code",
   "execution_count": 4,
   "metadata": {},
   "outputs": [],
   "source": [
    "cities = pd.read_csv('./data/cities.csv')"
   ]
  },
  {
   "cell_type": "code",
   "execution_count": 5,
   "metadata": {},
   "outputs": [],
   "source": [
    "stations = pd.read_csv('./data/stations.csv')"
   ]
  },
  {
   "cell_type": "code",
   "execution_count": 6,
   "metadata": {},
   "outputs": [],
   "source": [
    "providers = pd.read_csv('./data/providers.csv')"
   ]
  },
  {
   "cell_type": "code",
   "execution_count": 7,
   "metadata": {},
   "outputs": [
    {
     "name": "stdout",
     "output_type": "stream",
     "text": [
      "['id' 'company' 'o_station' 'd_station' 'departure_ts' 'arrival_ts'\n",
      " 'price_in_cents' 'search_ts' 'middle_stations' 'other_companies' 'o_city'\n",
      " 'd_city']\n"
     ]
    },
    {
     "data": {
      "text/html": [
       "<div>\n",
       "<style scoped>\n",
       "    .dataframe tbody tr th:only-of-type {\n",
       "        vertical-align: middle;\n",
       "    }\n",
       "\n",
       "    .dataframe tbody tr th {\n",
       "        vertical-align: top;\n",
       "    }\n",
       "\n",
       "    .dataframe thead th {\n",
       "        text-align: right;\n",
       "    }\n",
       "</style>\n",
       "<table border=\"1\" class=\"dataframe\">\n",
       "  <thead>\n",
       "    <tr style=\"text-align: right;\">\n",
       "      <th></th>\n",
       "      <th>id</th>\n",
       "      <th>company</th>\n",
       "      <th>o_station</th>\n",
       "      <th>d_station</th>\n",
       "      <th>departure_ts</th>\n",
       "      <th>arrival_ts</th>\n",
       "      <th>price_in_cents</th>\n",
       "      <th>search_ts</th>\n",
       "      <th>middle_stations</th>\n",
       "      <th>other_companies</th>\n",
       "      <th>o_city</th>\n",
       "      <th>d_city</th>\n",
       "    </tr>\n",
       "  </thead>\n",
       "  <tbody>\n",
       "    <tr>\n",
       "      <th>0</th>\n",
       "      <td>6795025</td>\n",
       "      <td>8385</td>\n",
       "      <td>NaN</td>\n",
       "      <td>NaN</td>\n",
       "      <td>2017-10-13 14:00:00+00</td>\n",
       "      <td>2017-10-13 20:10:00+00</td>\n",
       "      <td>4550</td>\n",
       "      <td>2017-10-01 00:13:31.327+00</td>\n",
       "      <td>NaN</td>\n",
       "      <td>NaN</td>\n",
       "      <td>611</td>\n",
       "      <td>542</td>\n",
       "    </tr>\n",
       "    <tr>\n",
       "      <th>1</th>\n",
       "      <td>6795026</td>\n",
       "      <td>9</td>\n",
       "      <td>63.0</td>\n",
       "      <td>1044.0</td>\n",
       "      <td>2017-10-13 13:05:00+00</td>\n",
       "      <td>2017-10-14 06:55:00+00</td>\n",
       "      <td>1450</td>\n",
       "      <td>2017-10-01 00:13:35.773+00</td>\n",
       "      <td>{149,418}</td>\n",
       "      <td>{13}</td>\n",
       "      <td>611</td>\n",
       "      <td>542</td>\n",
       "    </tr>\n",
       "    <tr>\n",
       "      <th>2</th>\n",
       "      <td>6795027</td>\n",
       "      <td>8377</td>\n",
       "      <td>5905.0</td>\n",
       "      <td>6495.0</td>\n",
       "      <td>2017-10-13 13:27:00+00</td>\n",
       "      <td>2017-10-14 21:24:00+00</td>\n",
       "      <td>7400</td>\n",
       "      <td>2017-10-01 00:13:40.212+00</td>\n",
       "      <td>{798,798,6794,6246}</td>\n",
       "      <td>{8377,8376}</td>\n",
       "      <td>611</td>\n",
       "      <td>542</td>\n",
       "    </tr>\n",
       "    <tr>\n",
       "      <th>3</th>\n",
       "      <td>6795028</td>\n",
       "      <td>8377</td>\n",
       "      <td>5905.0</td>\n",
       "      <td>6495.0</td>\n",
       "      <td>2017-10-13 13:27:00+00</td>\n",
       "      <td>2017-10-14 11:02:00+00</td>\n",
       "      <td>13500</td>\n",
       "      <td>2017-10-01 00:13:40.213+00</td>\n",
       "      <td>{798,798,6794,6246}</td>\n",
       "      <td>{8377,8376}</td>\n",
       "      <td>611</td>\n",
       "      <td>542</td>\n",
       "    </tr>\n",
       "    <tr>\n",
       "      <th>4</th>\n",
       "      <td>6795029</td>\n",
       "      <td>8381</td>\n",
       "      <td>5905.0</td>\n",
       "      <td>6495.0</td>\n",
       "      <td>2017-10-13 21:46:00+00</td>\n",
       "      <td>2017-10-14 19:32:00+00</td>\n",
       "      <td>7710</td>\n",
       "      <td>2017-10-01 00:13:40.213+00</td>\n",
       "      <td>{5983,5983}</td>\n",
       "      <td>{8380}</td>\n",
       "      <td>611</td>\n",
       "      <td>542</td>\n",
       "    </tr>\n",
       "  </tbody>\n",
       "</table>\n",
       "</div>"
      ],
      "text/plain": [
       "        id  company  o_station  d_station            departure_ts  \\\n",
       "0  6795025     8385        NaN        NaN  2017-10-13 14:00:00+00   \n",
       "1  6795026        9       63.0     1044.0  2017-10-13 13:05:00+00   \n",
       "2  6795027     8377     5905.0     6495.0  2017-10-13 13:27:00+00   \n",
       "3  6795028     8377     5905.0     6495.0  2017-10-13 13:27:00+00   \n",
       "4  6795029     8381     5905.0     6495.0  2017-10-13 21:46:00+00   \n",
       "\n",
       "               arrival_ts  price_in_cents                   search_ts  \\\n",
       "0  2017-10-13 20:10:00+00            4550  2017-10-01 00:13:31.327+00   \n",
       "1  2017-10-14 06:55:00+00            1450  2017-10-01 00:13:35.773+00   \n",
       "2  2017-10-14 21:24:00+00            7400  2017-10-01 00:13:40.212+00   \n",
       "3  2017-10-14 11:02:00+00           13500  2017-10-01 00:13:40.213+00   \n",
       "4  2017-10-14 19:32:00+00            7710  2017-10-01 00:13:40.213+00   \n",
       "\n",
       "       middle_stations other_companies  o_city  d_city  \n",
       "0                  NaN             NaN     611     542  \n",
       "1            {149,418}            {13}     611     542  \n",
       "2  {798,798,6794,6246}     {8377,8376}     611     542  \n",
       "3  {798,798,6794,6246}     {8377,8376}     611     542  \n",
       "4          {5983,5983}          {8380}     611     542  "
      ]
     },
     "execution_count": 7,
     "metadata": {},
     "output_type": "execute_result"
    }
   ],
   "source": [
    "print(ticket_data.columns.values)\n",
    "ticket_data.head()"
   ]
  },
  {
   "cell_type": "code",
   "execution_count": 8,
   "metadata": {},
   "outputs": [
    {
     "data": {
      "text/plain": [
       "id                   int64\n",
       "company              int64\n",
       "o_station          float64\n",
       "d_station          float64\n",
       "departure_ts        object\n",
       "arrival_ts          object\n",
       "price_in_cents       int64\n",
       "search_ts           object\n",
       "middle_stations     object\n",
       "other_companies     object\n",
       "o_city               int64\n",
       "d_city               int64\n",
       "dtype: object"
      ]
     },
     "execution_count": 8,
     "metadata": {},
     "output_type": "execute_result"
    }
   ],
   "source": [
    "ticket_data.dtypes"
   ]
  },
  {
   "cell_type": "code",
   "execution_count": 9,
   "metadata": {},
   "outputs": [
    {
     "name": "stdout",
     "output_type": "stream",
     "text": [
      "['id' 'local_name' 'unique_name' 'latitude' 'longitude' 'population']\n"
     ]
    },
    {
     "data": {
      "text/html": [
       "<div>\n",
       "<style scoped>\n",
       "    .dataframe tbody tr th:only-of-type {\n",
       "        vertical-align: middle;\n",
       "    }\n",
       "\n",
       "    .dataframe tbody tr th {\n",
       "        vertical-align: top;\n",
       "    }\n",
       "\n",
       "    .dataframe thead th {\n",
       "        text-align: right;\n",
       "    }\n",
       "</style>\n",
       "<table border=\"1\" class=\"dataframe\">\n",
       "  <thead>\n",
       "    <tr style=\"text-align: right;\">\n",
       "      <th></th>\n",
       "      <th>id</th>\n",
       "      <th>local_name</th>\n",
       "      <th>unique_name</th>\n",
       "      <th>latitude</th>\n",
       "      <th>longitude</th>\n",
       "      <th>population</th>\n",
       "    </tr>\n",
       "  </thead>\n",
       "  <tbody>\n",
       "    <tr>\n",
       "      <th>0</th>\n",
       "      <td>5159</td>\n",
       "      <td>Padua, Veneto, Italia</td>\n",
       "      <td>padua</td>\n",
       "      <td>45.406435</td>\n",
       "      <td>11.876761</td>\n",
       "      <td>209678.0</td>\n",
       "    </tr>\n",
       "    <tr>\n",
       "      <th>1</th>\n",
       "      <td>76</td>\n",
       "      <td>Barcelona, Cataluña, España</td>\n",
       "      <td>barcelona</td>\n",
       "      <td>41.385064</td>\n",
       "      <td>2.173404</td>\n",
       "      <td>1611822.0</td>\n",
       "    </tr>\n",
       "    <tr>\n",
       "      <th>2</th>\n",
       "      <td>81</td>\n",
       "      <td>Basel, Basel-Stadt, Schweiz</td>\n",
       "      <td>basel</td>\n",
       "      <td>47.593437</td>\n",
       "      <td>7.619812</td>\n",
       "      <td>NaN</td>\n",
       "    </tr>\n",
       "    <tr>\n",
       "      <th>3</th>\n",
       "      <td>259</td>\n",
       "      <td>Erlangen, Bayern, Deutschland</td>\n",
       "      <td>erlangen</td>\n",
       "      <td>49.589674</td>\n",
       "      <td>11.011961</td>\n",
       "      <td>105412.0</td>\n",
       "    </tr>\n",
       "    <tr>\n",
       "      <th>4</th>\n",
       "      <td>11979</td>\n",
       "      <td>Balș, Olt, România</td>\n",
       "      <td>balș</td>\n",
       "      <td>44.353354</td>\n",
       "      <td>24.095672</td>\n",
       "      <td>NaN</td>\n",
       "    </tr>\n",
       "  </tbody>\n",
       "</table>\n",
       "</div>"
      ],
      "text/plain": [
       "      id                     local_name unique_name   latitude  longitude  \\\n",
       "0   5159          Padua, Veneto, Italia       padua  45.406435  11.876761   \n",
       "1     76    Barcelona, Cataluña, España   barcelona  41.385064   2.173404   \n",
       "2     81    Basel, Basel-Stadt, Schweiz       basel  47.593437   7.619812   \n",
       "3    259  Erlangen, Bayern, Deutschland    erlangen  49.589674  11.011961   \n",
       "4  11979             Balș, Olt, România        balș  44.353354  24.095672   \n",
       "\n",
       "   population  \n",
       "0    209678.0  \n",
       "1   1611822.0  \n",
       "2         NaN  \n",
       "3    105412.0  \n",
       "4         NaN  "
      ]
     },
     "execution_count": 9,
     "metadata": {},
     "output_type": "execute_result"
    }
   ],
   "source": [
    "print(cities.columns.values)\n",
    "cities.head()"
   ]
  },
  {
   "cell_type": "code",
   "execution_count": 10,
   "metadata": {},
   "outputs": [
    {
     "data": {
      "text/plain": [
       "id               int64\n",
       "local_name      object\n",
       "unique_name     object\n",
       "latitude       float64\n",
       "longitude      float64\n",
       "population     float64\n",
       "dtype: object"
      ]
     },
     "execution_count": 10,
     "metadata": {},
     "output_type": "execute_result"
    }
   ],
   "source": [
    "cities.dtypes"
   ]
  },
  {
   "cell_type": "code",
   "execution_count": 11,
   "metadata": {},
   "outputs": [
    {
     "name": "stdout",
     "output_type": "stream",
     "text": [
      "['id' 'unique_name' 'latitude' 'longitude']\n"
     ]
    },
    {
     "data": {
      "text/html": [
       "<div>\n",
       "<style scoped>\n",
       "    .dataframe tbody tr th:only-of-type {\n",
       "        vertical-align: middle;\n",
       "    }\n",
       "\n",
       "    .dataframe tbody tr th {\n",
       "        vertical-align: top;\n",
       "    }\n",
       "\n",
       "    .dataframe thead th {\n",
       "        text-align: right;\n",
       "    }\n",
       "</style>\n",
       "<table border=\"1\" class=\"dataframe\">\n",
       "  <thead>\n",
       "    <tr style=\"text-align: right;\">\n",
       "      <th></th>\n",
       "      <th>id</th>\n",
       "      <th>unique_name</th>\n",
       "      <th>latitude</th>\n",
       "      <th>longitude</th>\n",
       "    </tr>\n",
       "  </thead>\n",
       "  <tbody>\n",
       "    <tr>\n",
       "      <th>0</th>\n",
       "      <td>1</td>\n",
       "      <td>Aalen (Stuttgarter Straße)</td>\n",
       "      <td>48.835296</td>\n",
       "      <td>10.092956</td>\n",
       "    </tr>\n",
       "    <tr>\n",
       "      <th>1</th>\n",
       "      <td>2</td>\n",
       "      <td>Aéroport Bordeaux-Mérignac</td>\n",
       "      <td>44.830226</td>\n",
       "      <td>-0.700883</td>\n",
       "    </tr>\n",
       "    <tr>\n",
       "      <th>2</th>\n",
       "      <td>3</td>\n",
       "      <td>Aéroport CDG</td>\n",
       "      <td>49.009900</td>\n",
       "      <td>2.559310</td>\n",
       "    </tr>\n",
       "    <tr>\n",
       "      <th>3</th>\n",
       "      <td>4</td>\n",
       "      <td>Aéroport de Berlin-Schönefeld</td>\n",
       "      <td>52.389446</td>\n",
       "      <td>13.520345</td>\n",
       "    </tr>\n",
       "    <tr>\n",
       "      <th>4</th>\n",
       "      <td>5</td>\n",
       "      <td>Aéroport de Dresden</td>\n",
       "      <td>51.123604</td>\n",
       "      <td>13.764737</td>\n",
       "    </tr>\n",
       "  </tbody>\n",
       "</table>\n",
       "</div>"
      ],
      "text/plain": [
       "   id                     unique_name   latitude  longitude\n",
       "0   1      Aalen (Stuttgarter Straße)  48.835296  10.092956\n",
       "1   2      Aéroport Bordeaux-Mérignac  44.830226  -0.700883\n",
       "2   3                   Aéroport CDG   49.009900   2.559310\n",
       "3   4  Aéroport de Berlin-Schönefeld   52.389446  13.520345\n",
       "4   5             Aéroport de Dresden  51.123604  13.764737"
      ]
     },
     "execution_count": 11,
     "metadata": {},
     "output_type": "execute_result"
    }
   ],
   "source": [
    "print(stations.columns.values)\n",
    "stations.head()"
   ]
  },
  {
   "cell_type": "code",
   "execution_count": 12,
   "metadata": {},
   "outputs": [
    {
     "data": {
      "text/plain": [
       "id               int64\n",
       "unique_name     object\n",
       "latitude       float64\n",
       "longitude      float64\n",
       "dtype: object"
      ]
     },
     "execution_count": 12,
     "metadata": {},
     "output_type": "execute_result"
    }
   ],
   "source": [
    "stations.dtypes"
   ]
  },
  {
   "cell_type": "code",
   "execution_count": 13,
   "metadata": {},
   "outputs": [
    {
     "name": "stdout",
     "output_type": "stream",
     "text": [
      "['id' 'company_id' 'provider_id' 'name' 'fullname' 'has_wifi' 'has_plug'\n",
      " 'has_adjustable_seats' 'has_bicycle' 'transport_type']\n"
     ]
    },
    {
     "data": {
      "text/html": [
       "<div>\n",
       "<style scoped>\n",
       "    .dataframe tbody tr th:only-of-type {\n",
       "        vertical-align: middle;\n",
       "    }\n",
       "\n",
       "    .dataframe tbody tr th {\n",
       "        vertical-align: top;\n",
       "    }\n",
       "\n",
       "    .dataframe thead th {\n",
       "        text-align: right;\n",
       "    }\n",
       "</style>\n",
       "<table border=\"1\" class=\"dataframe\">\n",
       "  <thead>\n",
       "    <tr style=\"text-align: right;\">\n",
       "      <th></th>\n",
       "      <th>id</th>\n",
       "      <th>company_id</th>\n",
       "      <th>provider_id</th>\n",
       "      <th>name</th>\n",
       "      <th>fullname</th>\n",
       "      <th>has_wifi</th>\n",
       "      <th>has_plug</th>\n",
       "      <th>has_adjustable_seats</th>\n",
       "      <th>has_bicycle</th>\n",
       "      <th>transport_type</th>\n",
       "    </tr>\n",
       "  </thead>\n",
       "  <tbody>\n",
       "    <tr>\n",
       "      <th>0</th>\n",
       "      <td>9</td>\n",
       "      <td>1</td>\n",
       "      <td>NaN</td>\n",
       "      <td>ouibus</td>\n",
       "      <td>Ouibus</td>\n",
       "      <td>True</td>\n",
       "      <td>True</td>\n",
       "      <td>True</td>\n",
       "      <td>False</td>\n",
       "      <td>bus</td>\n",
       "    </tr>\n",
       "    <tr>\n",
       "      <th>1</th>\n",
       "      <td>10</td>\n",
       "      <td>2</td>\n",
       "      <td>NaN</td>\n",
       "      <td>deinbus</td>\n",
       "      <td>Deinbus.de</td>\n",
       "      <td>False</td>\n",
       "      <td>False</td>\n",
       "      <td>False</td>\n",
       "      <td>False</td>\n",
       "      <td>bus</td>\n",
       "    </tr>\n",
       "    <tr>\n",
       "      <th>2</th>\n",
       "      <td>11</td>\n",
       "      <td>3</td>\n",
       "      <td>NaN</td>\n",
       "      <td>infobus</td>\n",
       "      <td>Infobus</td>\n",
       "      <td>False</td>\n",
       "      <td>False</td>\n",
       "      <td>False</td>\n",
       "      <td>False</td>\n",
       "      <td>bus</td>\n",
       "    </tr>\n",
       "    <tr>\n",
       "      <th>3</th>\n",
       "      <td>12</td>\n",
       "      <td>4</td>\n",
       "      <td>NaN</td>\n",
       "      <td>studentAgency</td>\n",
       "      <td>Student Agency</td>\n",
       "      <td>False</td>\n",
       "      <td>False</td>\n",
       "      <td>False</td>\n",
       "      <td>False</td>\n",
       "      <td>bus</td>\n",
       "    </tr>\n",
       "    <tr>\n",
       "      <th>4</th>\n",
       "      <td>13</td>\n",
       "      <td>5</td>\n",
       "      <td>NaN</td>\n",
       "      <td>flixbus</td>\n",
       "      <td>Flixbus</td>\n",
       "      <td>True</td>\n",
       "      <td>False</td>\n",
       "      <td>False</td>\n",
       "      <td>False</td>\n",
       "      <td>bus</td>\n",
       "    </tr>\n",
       "  </tbody>\n",
       "</table>\n",
       "</div>"
      ],
      "text/plain": [
       "   id  company_id provider_id           name        fullname has_wifi  \\\n",
       "0   9           1         NaN         ouibus          Ouibus     True   \n",
       "1  10           2         NaN        deinbus      Deinbus.de    False   \n",
       "2  11           3         NaN        infobus         Infobus    False   \n",
       "3  12           4         NaN  studentAgency  Student Agency    False   \n",
       "4  13           5         NaN        flixbus         Flixbus     True   \n",
       "\n",
       "  has_plug has_adjustable_seats has_bicycle transport_type  \n",
       "0     True                 True       False            bus  \n",
       "1    False                False       False            bus  \n",
       "2    False                False       False            bus  \n",
       "3    False                False       False            bus  \n",
       "4    False                False       False            bus  "
      ]
     },
     "execution_count": 13,
     "metadata": {},
     "output_type": "execute_result"
    }
   ],
   "source": [
    "print(providers.columns.values)\n",
    "providers.head()"
   ]
  },
  {
   "cell_type": "code",
   "execution_count": 14,
   "metadata": {},
   "outputs": [
    {
     "data": {
      "text/plain": [
       "id                       int64\n",
       "company_id               int64\n",
       "provider_id             object\n",
       "name                    object\n",
       "fullname                object\n",
       "has_wifi                object\n",
       "has_plug                object\n",
       "has_adjustable_seats    object\n",
       "has_bicycle             object\n",
       "transport_type          object\n",
       "dtype: object"
      ]
     },
     "execution_count": 14,
     "metadata": {},
     "output_type": "execute_result"
    }
   ],
   "source": [
    "providers.dtypes"
   ]
  },
  {
   "cell_type": "markdown",
   "metadata": {},
   "source": [
    "## Prix Min,Moyen,Max:"
   ]
  },
  {
   "cell_type": "code",
   "execution_count": 15,
   "metadata": {},
   "outputs": [
    {
     "name": "stdout",
     "output_type": "stream",
     "text": [
      "prix moyen des trajets: 4382.711061374178\n",
      "prix minimum des trajets: 300\n",
      "prix maximum des trajets: 38550\n"
     ]
    }
   ],
   "source": [
    "price_average = ticket_data[\"price_in_cents\"].mean()\n",
    "price_min = min(ticket_data[\"price_in_cents\"])\n",
    "price_max = max(ticket_data[\"price_in_cents\"])\n",
    "print(\"prix moyen des trajets:\", price_average)\n",
    "print(\"prix minimum des trajets:\", price_min)\n",
    "print(\"prix maximum des trajets:\", price_max)"
   ]
  },
  {
   "cell_type": "markdown",
   "metadata": {},
   "source": [
    "## Prix Min,Moyen,Max par trajet:\n",
    "On considère ici qu'un trajet est caractérisé par une ville de départ et une ville d'arrivée"
   ]
  },
  {
   "cell_type": "code",
   "execution_count": 16,
   "metadata": {},
   "outputs": [
    {
     "data": {
      "text/html": [
       "<div>\n",
       "<style scoped>\n",
       "    .dataframe tbody tr th:only-of-type {\n",
       "        vertical-align: middle;\n",
       "    }\n",
       "\n",
       "    .dataframe tbody tr th {\n",
       "        vertical-align: top;\n",
       "    }\n",
       "\n",
       "    .dataframe thead th {\n",
       "        text-align: right;\n",
       "    }\n",
       "</style>\n",
       "<table border=\"1\" class=\"dataframe\">\n",
       "  <thead>\n",
       "    <tr style=\"text-align: right;\">\n",
       "      <th></th>\n",
       "      <th></th>\n",
       "      <th>price_min</th>\n",
       "      <th>price_max</th>\n",
       "      <th>price_average</th>\n",
       "    </tr>\n",
       "    <tr>\n",
       "      <th>o_city</th>\n",
       "      <th>d_city</th>\n",
       "      <th></th>\n",
       "      <th></th>\n",
       "      <th></th>\n",
       "    </tr>\n",
       "  </thead>\n",
       "  <tbody>\n",
       "    <tr>\n",
       "      <th>5</th>\n",
       "      <th>23</th>\n",
       "      <td>18600</td>\n",
       "      <td>22000</td>\n",
       "      <td>20320.000000</td>\n",
       "    </tr>\n",
       "    <tr>\n",
       "      <th rowspan=\"4\" valign=\"top\">6</th>\n",
       "      <th>227</th>\n",
       "      <td>9860</td>\n",
       "      <td>13650</td>\n",
       "      <td>11755.000000</td>\n",
       "    </tr>\n",
       "    <tr>\n",
       "      <th>504</th>\n",
       "      <td>2000</td>\n",
       "      <td>8920</td>\n",
       "      <td>4042.666667</td>\n",
       "    </tr>\n",
       "    <tr>\n",
       "      <th>628</th>\n",
       "      <td>2600</td>\n",
       "      <td>3190</td>\n",
       "      <td>2797.500000</td>\n",
       "    </tr>\n",
       "    <tr>\n",
       "      <th>845</th>\n",
       "      <td>700</td>\n",
       "      <td>2420</td>\n",
       "      <td>864.626866</td>\n",
       "    </tr>\n",
       "  </tbody>\n",
       "</table>\n",
       "</div>"
      ],
      "text/plain": [
       "               price_min  price_max  price_average\n",
       "o_city d_city                                     \n",
       "5      23          18600      22000   20320.000000\n",
       "6      227          9860      13650   11755.000000\n",
       "       504          2000       8920    4042.666667\n",
       "       628          2600       3190    2797.500000\n",
       "       845           700       2420     864.626866"
      ]
     },
     "execution_count": 16,
     "metadata": {},
     "output_type": "execute_result"
    }
   ],
   "source": [
    "price_average_trip = ticket_data.groupby([\"o_city\",\"d_city\"])[\"price_in_cents\"].mean()\n",
    "price_min_trip = ticket_data.groupby([\"o_city\",\"d_city\"])[\"price_in_cents\"].min()\n",
    "price_max_trip = ticket_data.groupby([\"o_city\",\"d_city\"])[\"price_in_cents\"].max()\n",
    "price_average_trip = pd.DataFrame(price_average_trip)\n",
    "price_average_trip.rename(columns={\"price_in_cents\":\"price_average\"},inplace=True)\n",
    "price_min_trip = pd.DataFrame(price_min_trip)\n",
    "price_min_trip.rename(columns={\"price_in_cents\":\"price_min\"},inplace=True)\n",
    "price_max_trip = pd.DataFrame(price_max_trip)\n",
    "price_max_trip.rename(columns={\"price_in_cents\":\"price_max\"},inplace=True)\n",
    "stats=price_min_trip.merge(price_max_trip,on = [\"o_city\",\"d_city\"]).merge(price_average_trip,on = [\"o_city\",\"d_city\"])\n",
    "stats.head()"
   ]
  },
  {
   "cell_type": "markdown",
   "metadata": {},
   "source": [
    "## Durée Min,Moyenne,Max:\n",
    "On va rajouter une colonne \"duration\" à ticket_data qui nous sera utile ultérieurement"
   ]
  },
  {
   "cell_type": "code",
   "execution_count": 17,
   "metadata": {},
   "outputs": [
    {
     "name": "stdout",
     "output_type": "stream",
     "text": [
      "durée moyenne par trajet: 0 days 07:04:37.247600\n",
      "durée minimum par trajet: 0 days 00:20:00\n",
      "durée maximum par trajet: 20 days 12:51:00\n"
     ]
    }
   ],
   "source": [
    "departure = pd.to_datetime(ticket_data[\"departure_ts\"])\n",
    "arrival = pd.to_datetime(ticket_data[\"arrival_ts\"])\n",
    "ticket_data[\"duration\"] =arrival-departure\n",
    "duration_average = ticket_data['duration'].mean()\n",
    "duration_min = min(ticket_data['duration'])\n",
    "duration_max = max(ticket_data['duration'])\n",
    "print(\"durée moyenne par trajet:\", duration_average)\n",
    "print(\"durée minimum par trajet:\", duration_min)\n",
    "print(\"durée maximum par trajet:\", duration_max)"
   ]
  },
  {
   "cell_type": "markdown",
   "metadata": {},
   "source": [
    "## Durée Min,Moyenne,Max par trajet:"
   ]
  },
  {
   "cell_type": "code",
   "execution_count": 18,
   "metadata": {},
   "outputs": [
    {
     "data": {
      "text/html": [
       "<div>\n",
       "<style scoped>\n",
       "    .dataframe tbody tr th:only-of-type {\n",
       "        vertical-align: middle;\n",
       "    }\n",
       "\n",
       "    .dataframe tbody tr th {\n",
       "        vertical-align: top;\n",
       "    }\n",
       "\n",
       "    .dataframe thead th {\n",
       "        text-align: right;\n",
       "    }\n",
       "</style>\n",
       "<table border=\"1\" class=\"dataframe\">\n",
       "  <thead>\n",
       "    <tr style=\"text-align: right;\">\n",
       "      <th></th>\n",
       "      <th></th>\n",
       "      <th>duration_min</th>\n",
       "      <th>duration_max</th>\n",
       "      <th>duration_average</th>\n",
       "    </tr>\n",
       "    <tr>\n",
       "      <th>o_city</th>\n",
       "      <th>d_city</th>\n",
       "      <th></th>\n",
       "      <th></th>\n",
       "      <th></th>\n",
       "    </tr>\n",
       "  </thead>\n",
       "  <tbody>\n",
       "    <tr>\n",
       "      <th>5</th>\n",
       "      <th>23</th>\n",
       "      <td>08:53:00</td>\n",
       "      <td>15:54:00</td>\n",
       "      <td>10:18:48</td>\n",
       "    </tr>\n",
       "    <tr>\n",
       "      <th rowspan=\"4\" valign=\"top\">6</th>\n",
       "      <th>227</th>\n",
       "      <td>12:24:00</td>\n",
       "      <td>15:01:00</td>\n",
       "      <td>13:42:30</td>\n",
       "    </tr>\n",
       "    <tr>\n",
       "      <th>504</th>\n",
       "      <td>05:36:00</td>\n",
       "      <td>12:20:00</td>\n",
       "      <td>08:17:24</td>\n",
       "    </tr>\n",
       "    <tr>\n",
       "      <th>628</th>\n",
       "      <td>09:40:00</td>\n",
       "      <td>14:30:00</td>\n",
       "      <td>12:10:00</td>\n",
       "    </tr>\n",
       "    <tr>\n",
       "      <th>845</th>\n",
       "      <td>01:00:00</td>\n",
       "      <td>04:11:00</td>\n",
       "      <td>01:19:54.626865</td>\n",
       "    </tr>\n",
       "  </tbody>\n",
       "</table>\n",
       "</div>"
      ],
      "text/plain": [
       "              duration_min duration_max duration_average\n",
       "o_city d_city                                           \n",
       "5      23         08:53:00     15:54:00         10:18:48\n",
       "6      227        12:24:00     15:01:00         13:42:30\n",
       "       504        05:36:00     12:20:00         08:17:24\n",
       "       628        09:40:00     14:30:00         12:10:00\n",
       "       845        01:00:00     04:11:00  01:19:54.626865"
      ]
     },
     "execution_count": 18,
     "metadata": {},
     "output_type": "execute_result"
    }
   ],
   "source": [
    "duration_average_trip = ticket_data.groupby([\"o_city\",\"d_city\"])[\"duration\"].apply(lambda x: np.mean(x))\n",
    "duration_min_trip = ticket_data.groupby([\"o_city\",\"d_city\"])[\"duration\"].min()\n",
    "duration_max_trip = ticket_data.groupby([\"o_city\",\"d_city\"])[\"duration\"].max()\n",
    "duration_average_trip = pd.DataFrame(duration_average_trip)\n",
    "duration_average_trip.rename(columns={\"duration\":\"duration_average\"},inplace=True)\n",
    "duration_min_trip = pd.DataFrame(duration_min_trip)\n",
    "duration_min_trip.rename(columns={\"duration\":\"duration_min\"},inplace=True)\n",
    "duration_max_trip = pd.DataFrame(duration_max_trip )\n",
    "duration_max_trip.rename(columns={\"duration\":\"duration_max\"},inplace=True)\n",
    "stats=duration_min_trip.merge(duration_max_trip,on = [\"o_city\",\"d_city\"]).merge(duration_average_trip,on = [\"o_city\",\"d_city\"])\n",
    "stats.head()"
   ]
  },
  {
   "cell_type": "markdown",
   "metadata": {},
   "source": [
    "## Prix moyen et durée moyenne selon le type de transport selon la distance"
   ]
  },
  {
   "cell_type": "markdown",
   "metadata": {},
   "source": [
    "### Déterminer le type de transport:\n",
    "En visitant le site TicTacTrip, on trouve que pour un même ticket on peut avoir 4 types de transport comme le montre l'image ci-dessous  \n",
    "-Bus  \n",
    "-Train  \n",
    "-Combiné (Train+Bus)  \n",
    "-Covoiturage  \n",
    "<img src=\"./tictactrip1.png\">  \n",
    "On devrait donc trouver cela à travers notre dataset  \n",
    "On va commencer par écrire une fonction qui à partir d'un id de provider retourne le type de transport"
   ]
  },
  {
   "cell_type": "code",
   "execution_count": 19,
   "metadata": {},
   "outputs": [],
   "source": [
    "def mapproviders(id):\n",
    "    return providers[providers[\"id\"]==id][\"transport_type\"].values[0]"
   ]
  },
  {
   "cell_type": "markdown",
   "metadata": {},
   "source": [
    "Puis on utilise cette fonction dans une seconde qui à partir de company et other_companies retourne une liste sans doublons des types de transports  \n",
    "On commence par vérifier que other_companies n'a pas la valeur Nan\n",
    "other_companies étant un string, on enlève les accolades au début et à la fin et on transforme ça en liste et on rajoute company à cette liste  \n",
    "On utilise enfin mapproviders pour avoir la liste des types de transport. On enlève les doublons avec set"
   ]
  },
  {
   "cell_type": "code",
   "execution_count": 20,
   "metadata": {},
   "outputs": [],
   "source": [
    "def transport(company,other_companies):\n",
    "    companies=[]\n",
    "    if(pd.isna(other_companies)):\n",
    "        companies.append(company)\n",
    "    else:\n",
    "        companies=other_companies[1:-1]\n",
    "        companies=companies.split(\",\")\n",
    "        companies=[int(i) for i in companies]\n",
    "        companies.append(company)\n",
    "    result=[]\n",
    "    for c in companies:\n",
    "        result.append(mapproviders(c))\n",
    "    result=set(result)\n",
    "    result=\",\".join(list(result))\n",
    "    return result"
   ]
  },
  {
   "cell_type": "markdown",
   "metadata": {},
   "source": [
    "Il suffit maintenant d'appliquer la fonction transport sur les lignes de notre dataset ticket_data"
   ]
  },
  {
   "cell_type": "code",
   "execution_count": 21,
   "metadata": {},
   "outputs": [
    {
     "data": {
      "text/html": [
       "<div>\n",
       "<style scoped>\n",
       "    .dataframe tbody tr th:only-of-type {\n",
       "        vertical-align: middle;\n",
       "    }\n",
       "\n",
       "    .dataframe tbody tr th {\n",
       "        vertical-align: top;\n",
       "    }\n",
       "\n",
       "    .dataframe thead th {\n",
       "        text-align: right;\n",
       "    }\n",
       "</style>\n",
       "<table border=\"1\" class=\"dataframe\">\n",
       "  <thead>\n",
       "    <tr style=\"text-align: right;\">\n",
       "      <th></th>\n",
       "      <th>id</th>\n",
       "      <th>company</th>\n",
       "      <th>o_station</th>\n",
       "      <th>d_station</th>\n",
       "      <th>departure_ts</th>\n",
       "      <th>arrival_ts</th>\n",
       "      <th>price_in_cents</th>\n",
       "      <th>search_ts</th>\n",
       "      <th>middle_stations</th>\n",
       "      <th>other_companies</th>\n",
       "      <th>o_city</th>\n",
       "      <th>d_city</th>\n",
       "      <th>duration</th>\n",
       "      <th>transport_type</th>\n",
       "    </tr>\n",
       "  </thead>\n",
       "  <tbody>\n",
       "    <tr>\n",
       "      <th>0</th>\n",
       "      <td>6795025</td>\n",
       "      <td>8385</td>\n",
       "      <td>NaN</td>\n",
       "      <td>NaN</td>\n",
       "      <td>2017-10-13 14:00:00+00</td>\n",
       "      <td>2017-10-13 20:10:00+00</td>\n",
       "      <td>4550</td>\n",
       "      <td>2017-10-01 00:13:31.327+00</td>\n",
       "      <td>NaN</td>\n",
       "      <td>NaN</td>\n",
       "      <td>611</td>\n",
       "      <td>542</td>\n",
       "      <td>0 days 06:10:00</td>\n",
       "      <td>carpooling</td>\n",
       "    </tr>\n",
       "    <tr>\n",
       "      <th>1</th>\n",
       "      <td>6795026</td>\n",
       "      <td>9</td>\n",
       "      <td>63.0</td>\n",
       "      <td>1044.0</td>\n",
       "      <td>2017-10-13 13:05:00+00</td>\n",
       "      <td>2017-10-14 06:55:00+00</td>\n",
       "      <td>1450</td>\n",
       "      <td>2017-10-01 00:13:35.773+00</td>\n",
       "      <td>{149,418}</td>\n",
       "      <td>{13}</td>\n",
       "      <td>611</td>\n",
       "      <td>542</td>\n",
       "      <td>0 days 17:50:00</td>\n",
       "      <td>bus</td>\n",
       "    </tr>\n",
       "    <tr>\n",
       "      <th>2</th>\n",
       "      <td>6795027</td>\n",
       "      <td>8377</td>\n",
       "      <td>5905.0</td>\n",
       "      <td>6495.0</td>\n",
       "      <td>2017-10-13 13:27:00+00</td>\n",
       "      <td>2017-10-14 21:24:00+00</td>\n",
       "      <td>7400</td>\n",
       "      <td>2017-10-01 00:13:40.212+00</td>\n",
       "      <td>{798,798,6794,6246}</td>\n",
       "      <td>{8377,8376}</td>\n",
       "      <td>611</td>\n",
       "      <td>542</td>\n",
       "      <td>1 days 07:57:00</td>\n",
       "      <td>train</td>\n",
       "    </tr>\n",
       "    <tr>\n",
       "      <th>3</th>\n",
       "      <td>6795028</td>\n",
       "      <td>8377</td>\n",
       "      <td>5905.0</td>\n",
       "      <td>6495.0</td>\n",
       "      <td>2017-10-13 13:27:00+00</td>\n",
       "      <td>2017-10-14 11:02:00+00</td>\n",
       "      <td>13500</td>\n",
       "      <td>2017-10-01 00:13:40.213+00</td>\n",
       "      <td>{798,798,6794,6246}</td>\n",
       "      <td>{8377,8376}</td>\n",
       "      <td>611</td>\n",
       "      <td>542</td>\n",
       "      <td>0 days 21:35:00</td>\n",
       "      <td>train</td>\n",
       "    </tr>\n",
       "    <tr>\n",
       "      <th>4</th>\n",
       "      <td>6795029</td>\n",
       "      <td>8381</td>\n",
       "      <td>5905.0</td>\n",
       "      <td>6495.0</td>\n",
       "      <td>2017-10-13 21:46:00+00</td>\n",
       "      <td>2017-10-14 19:32:00+00</td>\n",
       "      <td>7710</td>\n",
       "      <td>2017-10-01 00:13:40.213+00</td>\n",
       "      <td>{5983,5983}</td>\n",
       "      <td>{8380}</td>\n",
       "      <td>611</td>\n",
       "      <td>542</td>\n",
       "      <td>0 days 21:46:00</td>\n",
       "      <td>train</td>\n",
       "    </tr>\n",
       "  </tbody>\n",
       "</table>\n",
       "</div>"
      ],
      "text/plain": [
       "        id  company  o_station  d_station            departure_ts  \\\n",
       "0  6795025     8385        NaN        NaN  2017-10-13 14:00:00+00   \n",
       "1  6795026        9       63.0     1044.0  2017-10-13 13:05:00+00   \n",
       "2  6795027     8377     5905.0     6495.0  2017-10-13 13:27:00+00   \n",
       "3  6795028     8377     5905.0     6495.0  2017-10-13 13:27:00+00   \n",
       "4  6795029     8381     5905.0     6495.0  2017-10-13 21:46:00+00   \n",
       "\n",
       "               arrival_ts  price_in_cents                   search_ts  \\\n",
       "0  2017-10-13 20:10:00+00            4550  2017-10-01 00:13:31.327+00   \n",
       "1  2017-10-14 06:55:00+00            1450  2017-10-01 00:13:35.773+00   \n",
       "2  2017-10-14 21:24:00+00            7400  2017-10-01 00:13:40.212+00   \n",
       "3  2017-10-14 11:02:00+00           13500  2017-10-01 00:13:40.213+00   \n",
       "4  2017-10-14 19:32:00+00            7710  2017-10-01 00:13:40.213+00   \n",
       "\n",
       "       middle_stations other_companies  o_city  d_city        duration  \\\n",
       "0                  NaN             NaN     611     542 0 days 06:10:00   \n",
       "1            {149,418}            {13}     611     542 0 days 17:50:00   \n",
       "2  {798,798,6794,6246}     {8377,8376}     611     542 1 days 07:57:00   \n",
       "3  {798,798,6794,6246}     {8377,8376}     611     542 0 days 21:35:00   \n",
       "4          {5983,5983}          {8380}     611     542 0 days 21:46:00   \n",
       "\n",
       "  transport_type  \n",
       "0     carpooling  \n",
       "1            bus  \n",
       "2          train  \n",
       "3          train  \n",
       "4          train  "
      ]
     },
     "execution_count": 21,
     "metadata": {},
     "output_type": "execute_result"
    }
   ],
   "source": [
    "ticket_data[\"transport_type\"]=ticket_data.apply(lambda row: transport(row[\"company\"],row[\"other_companies\"]),axis=1)\n",
    "ticket_data.head()"
   ]
  },
  {
   "cell_type": "code",
   "execution_count": 22,
   "metadata": {},
   "outputs": [
    {
     "data": {
      "text/plain": [
       "carpooling    41441\n",
       "train         18815\n",
       "bus           13629\n",
       "train,bus       283\n",
       "Name: transport_type, dtype: int64"
      ]
     },
     "execution_count": 22,
     "metadata": {},
     "output_type": "execute_result"
    }
   ],
   "source": [
    "ticket_data[\"transport_type\"].value_counts()"
   ]
  },
  {
   "cell_type": "markdown",
   "metadata": {},
   "source": [
    "#### Ces valeurs corresspondent à notre hypothèse"
   ]
  },
  {
   "cell_type": "code",
   "execution_count": 23,
   "metadata": {},
   "outputs": [
    {
     "data": {
      "text/plain": [
       "carpooling    41441\n",
       "train         18815\n",
       "bus           13629\n",
       "combiné         283\n",
       "Name: transport_type, dtype: int64"
      ]
     },
     "execution_count": 23,
     "metadata": {},
     "output_type": "execute_result"
    }
   ],
   "source": [
    "ticket_data[\"transport_type\"]=ticket_data[\"transport_type\"].str.replace('train,bus', 'combiné')\n",
    "ticket_data[\"transport_type\"].value_counts()"
   ]
  },
  {
   "cell_type": "markdown",
   "metadata": {},
   "source": [
    "### Déterminer la distance parcourue:\n",
    "Pour calculer la distance on va devoir émettre quelques hypothèses.\n",
    "Pour le calcul de distances pour le covoiturage on devra utiliser la distance entre les villes d'origine et d'arrivée.\n",
    "Pour les stations on remarque que les stations sont toujours en nombre pairs \n",
    "En faisant un tour sur le site de TicTacTrip on trouve:  \n",
    "Soit des escales où les 2 stations sont identiques avec ou sans changement de type de transport comme le montre l'image ci-dessous:\n",
    "<img src=\"./tictactrip2.png\"> \n",
    "Dans cet exemple la distance se calcule: Paris Bercy Seine Bus Station -> Lille + Lille -> Berlin Airport BER  \n",
    "Soit des escale où la personne devra changer de station (à pieds,en taxi etc)comme le montre l'images ci-dessous:\n",
    "<img src=\"./tictactrip3.png\">  \n",
    "La distance ici se calcule: Paris Bercy Seine Bus Station -> Lille tourcoing + Lille -> Berlin Airport BER   \n",
    "La distance entre les deux stations intermédiaires (ici Lille tourcoing -> Lille) ne devra donc pas être compter vu que le client fera ça lui même"
   ]
  },
  {
   "cell_type": "markdown",
   "metadata": {},
   "source": [
    "Prenons maintenant un exemple de la dataset. Si nous avons:  \n",
    "o_station=5905\n",
    "d_station=6495\n",
    "Middle_stations={798,798,6794,6246}  \n",
    "Il suffit de calculer 5905->798+798->6794+6246->6495  \n",
    "On peut donc à partir d'une liste de stations calculer la distance totale du trajet en sommant les distances entre les couples de stations consécutifs  \n",
    "Les fonctions mapstations et mapcities permettent à partir d'un id de retourner la latitude et la longitude de la station ou ville"
   ]
  },
  {
   "cell_type": "code",
   "execution_count": 24,
   "metadata": {},
   "outputs": [],
   "source": [
    "def mapstations(id):\n",
    "    return stations[stations[\"id\"]==id][[\"latitude\",\"longitude\"]].values"
   ]
  },
  {
   "cell_type": "code",
   "execution_count": 25,
   "metadata": {},
   "outputs": [],
   "source": [
    "def mapcities(id):\n",
    "    return cities[cities[\"id\"]==id][[\"latitude\",\"longitude\"]].values"
   ]
  },
  {
   "cell_type": "code",
   "execution_count": 26,
   "metadata": {},
   "outputs": [],
   "source": [
    "def calculdistance(o_station,d_station,middle_station,o_city,d_city):\n",
    "    if(pd.isna(o_station)):\n",
    "        origin=mapcities(o_city)\n",
    "        destination=mapcities(d_city)\n",
    "        value=distance.distance((origin[0][0],origin[0][1]),(destination[0][0],destination[0][1]))\n",
    "    else:    \n",
    "        value=0\n",
    "        middle_station=middle_station[1:-1]\n",
    "        liste=middle_station.split(\",\")\n",
    "        liste = [int(i) for i in liste]\n",
    "        liste.append(d_station)\n",
    "        liste.insert(0,o_station)\n",
    "        for i in range(0,len(liste),2):\n",
    "            station1=mapstations(liste[i])\n",
    "            station2=mapstations(liste[i+1])\n",
    "            value+=distance.distance((station1[0][0],station1[0][1]),(station2[0][0],station2[0][1])).km\n",
    "    return value"
   ]
  },
  {
   "cell_type": "code",
   "execution_count": 27,
   "metadata": {},
   "outputs": [],
   "source": [
    "def distancecategory(distance):\n",
    "    if(distance>2000):\n",
    "        return \"2000+km\"\n",
    "    elif(distance>800):\n",
    "        return \"800-2000km\"\n",
    "    elif(distance>201):\n",
    "        return \"201-800km\"\n",
    "    else:\n",
    "        return \"0-200km\""
   ]
  },
  {
   "cell_type": "code",
   "execution_count": 28,
   "metadata": {},
   "outputs": [],
   "source": [
    "ticket_data[\"distance\"]=ticket_data.apply(lambda row: calculdistance(row[\"o_station\"],row[\"d_station\"],row[\"middle_stations\"],row[\"o_city\"],row[\"d_city\"]),axis=1)\n",
    "ticket_data[\"category\"]=ticket_data.apply(lambda row: distancecategory(row[\"distance\"]),axis=1)"
   ]
  },
  {
   "cell_type": "code",
   "execution_count": 29,
   "metadata": {},
   "outputs": [
    {
     "data": {
      "text/html": [
       "<div>\n",
       "<style scoped>\n",
       "    .dataframe tbody tr th:only-of-type {\n",
       "        vertical-align: middle;\n",
       "    }\n",
       "\n",
       "    .dataframe tbody tr th {\n",
       "        vertical-align: top;\n",
       "    }\n",
       "\n",
       "    .dataframe thead th {\n",
       "        text-align: right;\n",
       "    }\n",
       "</style>\n",
       "<table border=\"1\" class=\"dataframe\">\n",
       "  <thead>\n",
       "    <tr style=\"text-align: right;\">\n",
       "      <th></th>\n",
       "      <th>id</th>\n",
       "      <th>company</th>\n",
       "      <th>o_station</th>\n",
       "      <th>d_station</th>\n",
       "      <th>departure_ts</th>\n",
       "      <th>arrival_ts</th>\n",
       "      <th>price_in_cents</th>\n",
       "      <th>search_ts</th>\n",
       "      <th>middle_stations</th>\n",
       "      <th>other_companies</th>\n",
       "      <th>o_city</th>\n",
       "      <th>d_city</th>\n",
       "      <th>duration</th>\n",
       "      <th>transport_type</th>\n",
       "      <th>distance</th>\n",
       "      <th>category</th>\n",
       "    </tr>\n",
       "  </thead>\n",
       "  <tbody>\n",
       "    <tr>\n",
       "      <th>0</th>\n",
       "      <td>6795025</td>\n",
       "      <td>8385</td>\n",
       "      <td>NaN</td>\n",
       "      <td>NaN</td>\n",
       "      <td>2017-10-13 14:00:00+00</td>\n",
       "      <td>2017-10-13 20:10:00+00</td>\n",
       "      <td>4550</td>\n",
       "      <td>2017-10-01 00:13:31.327+00</td>\n",
       "      <td>NaN</td>\n",
       "      <td>NaN</td>\n",
       "      <td>611</td>\n",
       "      <td>542</td>\n",
       "      <td>0 days 06:10:00</td>\n",
       "      <td>carpooling</td>\n",
       "      <td>503.1368310487561 km</td>\n",
       "      <td>201-800km</td>\n",
       "    </tr>\n",
       "    <tr>\n",
       "      <th>1</th>\n",
       "      <td>6795026</td>\n",
       "      <td>9</td>\n",
       "      <td>63.0</td>\n",
       "      <td>1044.0</td>\n",
       "      <td>2017-10-13 13:05:00+00</td>\n",
       "      <td>2017-10-14 06:55:00+00</td>\n",
       "      <td>1450</td>\n",
       "      <td>2017-10-01 00:13:35.773+00</td>\n",
       "      <td>{149,418}</td>\n",
       "      <td>{13}</td>\n",
       "      <td>611</td>\n",
       "      <td>542</td>\n",
       "      <td>0 days 17:50:00</td>\n",
       "      <td>bus</td>\n",
       "      <td>505.99</td>\n",
       "      <td>201-800km</td>\n",
       "    </tr>\n",
       "    <tr>\n",
       "      <th>2</th>\n",
       "      <td>6795027</td>\n",
       "      <td>8377</td>\n",
       "      <td>5905.0</td>\n",
       "      <td>6495.0</td>\n",
       "      <td>2017-10-13 13:27:00+00</td>\n",
       "      <td>2017-10-14 21:24:00+00</td>\n",
       "      <td>7400</td>\n",
       "      <td>2017-10-01 00:13:40.212+00</td>\n",
       "      <td>{798,798,6794,6246}</td>\n",
       "      <td>{8377,8376}</td>\n",
       "      <td>611</td>\n",
       "      <td>542</td>\n",
       "      <td>1 days 07:57:00</td>\n",
       "      <td>train</td>\n",
       "      <td>1054.48</td>\n",
       "      <td>800-2000km</td>\n",
       "    </tr>\n",
       "    <tr>\n",
       "      <th>3</th>\n",
       "      <td>6795028</td>\n",
       "      <td>8377</td>\n",
       "      <td>5905.0</td>\n",
       "      <td>6495.0</td>\n",
       "      <td>2017-10-13 13:27:00+00</td>\n",
       "      <td>2017-10-14 11:02:00+00</td>\n",
       "      <td>13500</td>\n",
       "      <td>2017-10-01 00:13:40.213+00</td>\n",
       "      <td>{798,798,6794,6246}</td>\n",
       "      <td>{8377,8376}</td>\n",
       "      <td>611</td>\n",
       "      <td>542</td>\n",
       "      <td>0 days 21:35:00</td>\n",
       "      <td>train</td>\n",
       "      <td>1054.48</td>\n",
       "      <td>800-2000km</td>\n",
       "    </tr>\n",
       "    <tr>\n",
       "      <th>4</th>\n",
       "      <td>6795029</td>\n",
       "      <td>8381</td>\n",
       "      <td>5905.0</td>\n",
       "      <td>6495.0</td>\n",
       "      <td>2017-10-13 21:46:00+00</td>\n",
       "      <td>2017-10-14 19:32:00+00</td>\n",
       "      <td>7710</td>\n",
       "      <td>2017-10-01 00:13:40.213+00</td>\n",
       "      <td>{5983,5983}</td>\n",
       "      <td>{8380}</td>\n",
       "      <td>611</td>\n",
       "      <td>542</td>\n",
       "      <td>0 days 21:46:00</td>\n",
       "      <td>train</td>\n",
       "      <td>630.203</td>\n",
       "      <td>201-800km</td>\n",
       "    </tr>\n",
       "  </tbody>\n",
       "</table>\n",
       "</div>"
      ],
      "text/plain": [
       "        id  company  o_station  d_station            departure_ts  \\\n",
       "0  6795025     8385        NaN        NaN  2017-10-13 14:00:00+00   \n",
       "1  6795026        9       63.0     1044.0  2017-10-13 13:05:00+00   \n",
       "2  6795027     8377     5905.0     6495.0  2017-10-13 13:27:00+00   \n",
       "3  6795028     8377     5905.0     6495.0  2017-10-13 13:27:00+00   \n",
       "4  6795029     8381     5905.0     6495.0  2017-10-13 21:46:00+00   \n",
       "\n",
       "               arrival_ts  price_in_cents                   search_ts  \\\n",
       "0  2017-10-13 20:10:00+00            4550  2017-10-01 00:13:31.327+00   \n",
       "1  2017-10-14 06:55:00+00            1450  2017-10-01 00:13:35.773+00   \n",
       "2  2017-10-14 21:24:00+00            7400  2017-10-01 00:13:40.212+00   \n",
       "3  2017-10-14 11:02:00+00           13500  2017-10-01 00:13:40.213+00   \n",
       "4  2017-10-14 19:32:00+00            7710  2017-10-01 00:13:40.213+00   \n",
       "\n",
       "       middle_stations other_companies  o_city  d_city        duration  \\\n",
       "0                  NaN             NaN     611     542 0 days 06:10:00   \n",
       "1            {149,418}            {13}     611     542 0 days 17:50:00   \n",
       "2  {798,798,6794,6246}     {8377,8376}     611     542 1 days 07:57:00   \n",
       "3  {798,798,6794,6246}     {8377,8376}     611     542 0 days 21:35:00   \n",
       "4          {5983,5983}          {8380}     611     542 0 days 21:46:00   \n",
       "\n",
       "  transport_type              distance    category  \n",
       "0     carpooling  503.1368310487561 km   201-800km  \n",
       "1            bus                505.99   201-800km  \n",
       "2          train               1054.48  800-2000km  \n",
       "3          train               1054.48  800-2000km  \n",
       "4          train               630.203   201-800km  "
      ]
     },
     "execution_count": 29,
     "metadata": {},
     "output_type": "execute_result"
    }
   ],
   "source": [
    "ticket_data.head()"
   ]
  },
  {
   "cell_type": "markdown",
   "metadata": {},
   "source": [
    "### Prix Moyen et durée moyenne selon la distance et le type de transport\n",
    "On va maintenant laisser les colonnes qui nous intéressent et grouper les résultat selon le type de transport et la category de distance"
   ]
  },
  {
   "cell_type": "code",
   "execution_count": 30,
   "metadata": {},
   "outputs": [
    {
     "name": "stderr",
     "output_type": "stream",
     "text": [
      "<ipython-input-30-7b1cba2dce07>:2: SettingWithCopyWarning: \n",
      "A value is trying to be set on a copy of a slice from a DataFrame.\n",
      "Try using .loc[row_indexer,col_indexer] = value instead\n",
      "\n",
      "See the caveats in the documentation: https://pandas.pydata.org/pandas-docs/stable/user_guide/indexing.html#returning-a-view-versus-a-copy\n",
      "  result[\"duration_seconds\"]=result[\"duration\"].apply(lambda x:timedelta.total_seconds(x))\n"
     ]
    },
    {
     "data": {
      "text/html": [
       "<div>\n",
       "<style scoped>\n",
       "    .dataframe tbody tr th:only-of-type {\n",
       "        vertical-align: middle;\n",
       "    }\n",
       "\n",
       "    .dataframe tbody tr th {\n",
       "        vertical-align: top;\n",
       "    }\n",
       "\n",
       "    .dataframe thead th {\n",
       "        text-align: right;\n",
       "    }\n",
       "</style>\n",
       "<table border=\"1\" class=\"dataframe\">\n",
       "  <thead>\n",
       "    <tr style=\"text-align: right;\">\n",
       "      <th></th>\n",
       "      <th>transport_type</th>\n",
       "      <th>category</th>\n",
       "      <th>duration</th>\n",
       "      <th>price_in_cents</th>\n",
       "      <th>duration_seconds</th>\n",
       "    </tr>\n",
       "  </thead>\n",
       "  <tbody>\n",
       "    <tr>\n",
       "      <th>0</th>\n",
       "      <td>carpooling</td>\n",
       "      <td>201-800km</td>\n",
       "      <td>0 days 06:10:00</td>\n",
       "      <td>4550</td>\n",
       "      <td>22200.0</td>\n",
       "    </tr>\n",
       "    <tr>\n",
       "      <th>1</th>\n",
       "      <td>bus</td>\n",
       "      <td>201-800km</td>\n",
       "      <td>0 days 17:50:00</td>\n",
       "      <td>1450</td>\n",
       "      <td>64200.0</td>\n",
       "    </tr>\n",
       "    <tr>\n",
       "      <th>2</th>\n",
       "      <td>train</td>\n",
       "      <td>800-2000km</td>\n",
       "      <td>1 days 07:57:00</td>\n",
       "      <td>7400</td>\n",
       "      <td>115020.0</td>\n",
       "    </tr>\n",
       "    <tr>\n",
       "      <th>3</th>\n",
       "      <td>train</td>\n",
       "      <td>800-2000km</td>\n",
       "      <td>0 days 21:35:00</td>\n",
       "      <td>13500</td>\n",
       "      <td>77700.0</td>\n",
       "    </tr>\n",
       "    <tr>\n",
       "      <th>4</th>\n",
       "      <td>train</td>\n",
       "      <td>201-800km</td>\n",
       "      <td>0 days 21:46:00</td>\n",
       "      <td>7710</td>\n",
       "      <td>78360.0</td>\n",
       "    </tr>\n",
       "  </tbody>\n",
       "</table>\n",
       "</div>"
      ],
      "text/plain": [
       "  transport_type    category        duration  price_in_cents  duration_seconds\n",
       "0     carpooling   201-800km 0 days 06:10:00            4550           22200.0\n",
       "1            bus   201-800km 0 days 17:50:00            1450           64200.0\n",
       "2          train  800-2000km 1 days 07:57:00            7400          115020.0\n",
       "3          train  800-2000km 0 days 21:35:00           13500           77700.0\n",
       "4          train   201-800km 0 days 21:46:00            7710           78360.0"
      ]
     },
     "execution_count": 30,
     "metadata": {},
     "output_type": "execute_result"
    }
   ],
   "source": [
    "result=ticket_data[[\"transport_type\",\"category\",\"duration\",\"price_in_cents\"]]\n",
    "result[\"duration_seconds\"]=result[\"duration\"].apply(lambda x:timedelta.total_seconds(x))\n",
    "result.head()"
   ]
  },
  {
   "cell_type": "code",
   "execution_count": 31,
   "metadata": {},
   "outputs": [
    {
     "data": {
      "text/html": [
       "<div>\n",
       "<style scoped>\n",
       "    .dataframe tbody tr th:only-of-type {\n",
       "        vertical-align: middle;\n",
       "    }\n",
       "\n",
       "    .dataframe tbody tr th {\n",
       "        vertical-align: top;\n",
       "    }\n",
       "\n",
       "    .dataframe thead th {\n",
       "        text-align: right;\n",
       "    }\n",
       "</style>\n",
       "<table border=\"1\" class=\"dataframe\">\n",
       "  <thead>\n",
       "    <tr style=\"text-align: right;\">\n",
       "      <th></th>\n",
       "      <th></th>\n",
       "      <th>price_in_cents</th>\n",
       "    </tr>\n",
       "    <tr>\n",
       "      <th>transport_type</th>\n",
       "      <th>category</th>\n",
       "      <th></th>\n",
       "    </tr>\n",
       "  </thead>\n",
       "  <tbody>\n",
       "    <tr>\n",
       "      <th rowspan=\"3\" valign=\"top\">bus</th>\n",
       "      <th>0-200km</th>\n",
       "      <td>1902.847273</td>\n",
       "    </tr>\n",
       "    <tr>\n",
       "      <th>201-800km</th>\n",
       "      <td>3352.311854</td>\n",
       "    </tr>\n",
       "    <tr>\n",
       "      <th>800-2000km</th>\n",
       "      <td>6838.667455</td>\n",
       "    </tr>\n",
       "    <tr>\n",
       "      <th rowspan=\"3\" valign=\"top\">carpooling</th>\n",
       "      <th>0-200km</th>\n",
       "      <td>1194.539117</td>\n",
       "    </tr>\n",
       "    <tr>\n",
       "      <th>201-800km</th>\n",
       "      <td>3231.112367</td>\n",
       "    </tr>\n",
       "    <tr>\n",
       "      <th>800-2000km</th>\n",
       "      <td>8626.545455</td>\n",
       "    </tr>\n",
       "    <tr>\n",
       "      <th rowspan=\"2\" valign=\"top\">combiné</th>\n",
       "      <th>0-200km</th>\n",
       "      <td>2992.048193</td>\n",
       "    </tr>\n",
       "    <tr>\n",
       "      <th>201-800km</th>\n",
       "      <td>7610.450000</td>\n",
       "    </tr>\n",
       "    <tr>\n",
       "      <th rowspan=\"3\" valign=\"top\">train</th>\n",
       "      <th>0-200km</th>\n",
       "      <td>2872.669882</td>\n",
       "    </tr>\n",
       "    <tr>\n",
       "      <th>201-800km</th>\n",
       "      <td>8942.004444</td>\n",
       "    </tr>\n",
       "    <tr>\n",
       "      <th>800-2000km</th>\n",
       "      <td>16509.400510</td>\n",
       "    </tr>\n",
       "  </tbody>\n",
       "</table>\n",
       "</div>"
      ],
      "text/plain": [
       "                           price_in_cents\n",
       "transport_type category                  \n",
       "bus            0-200km        1902.847273\n",
       "               201-800km      3352.311854\n",
       "               800-2000km     6838.667455\n",
       "carpooling     0-200km        1194.539117\n",
       "               201-800km      3231.112367\n",
       "               800-2000km     8626.545455\n",
       "combiné        0-200km        2992.048193\n",
       "               201-800km      7610.450000\n",
       "train          0-200km        2872.669882\n",
       "               201-800km      8942.004444\n",
       "               800-2000km    16509.400510"
      ]
     },
     "execution_count": 31,
     "metadata": {},
     "output_type": "execute_result"
    }
   ],
   "source": [
    "prix_moyen=pd.DataFrame(result.groupby([\"transport_type\",\"category\"])[\"price_in_cents\"].mean())\n",
    "prix_moyen"
   ]
  },
  {
   "cell_type": "code",
   "execution_count": 32,
   "metadata": {},
   "outputs": [
    {
     "data": {
      "text/html": [
       "<div>\n",
       "<style scoped>\n",
       "    .dataframe tbody tr th:only-of-type {\n",
       "        vertical-align: middle;\n",
       "    }\n",
       "\n",
       "    .dataframe tbody tr th {\n",
       "        vertical-align: top;\n",
       "    }\n",
       "\n",
       "    .dataframe thead th {\n",
       "        text-align: right;\n",
       "    }\n",
       "</style>\n",
       "<table border=\"1\" class=\"dataframe\">\n",
       "  <thead>\n",
       "    <tr style=\"text-align: right;\">\n",
       "      <th></th>\n",
       "      <th></th>\n",
       "      <th>duration</th>\n",
       "    </tr>\n",
       "    <tr>\n",
       "      <th>transport_type</th>\n",
       "      <th>category</th>\n",
       "      <th></th>\n",
       "    </tr>\n",
       "  </thead>\n",
       "  <tbody>\n",
       "    <tr>\n",
       "      <th rowspan=\"3\" valign=\"top\">bus</th>\n",
       "      <th>0-200km</th>\n",
       "      <td>0 days 07:34:39.600000</td>\n",
       "    </tr>\n",
       "    <tr>\n",
       "      <th>201-800km</th>\n",
       "      <td>0 days 14:52:03.891617</td>\n",
       "    </tr>\n",
       "    <tr>\n",
       "      <th>800-2000km</th>\n",
       "      <td>1 days 03:13:17.919621</td>\n",
       "    </tr>\n",
       "    <tr>\n",
       "      <th rowspan=\"3\" valign=\"top\">carpooling</th>\n",
       "      <th>0-200km</th>\n",
       "      <td>0 days 01:58:37.389620</td>\n",
       "    </tr>\n",
       "    <tr>\n",
       "      <th>201-800km</th>\n",
       "      <td>0 days 04:46:50.371327</td>\n",
       "    </tr>\n",
       "    <tr>\n",
       "      <th>800-2000km</th>\n",
       "      <td>0 days 13:06:00.839160</td>\n",
       "    </tr>\n",
       "    <tr>\n",
       "      <th rowspan=\"2\" valign=\"top\">combiné</th>\n",
       "      <th>0-200km</th>\n",
       "      <td>0 days 04:45:20.240963</td>\n",
       "    </tr>\n",
       "    <tr>\n",
       "      <th>201-800km</th>\n",
       "      <td>0 days 10:41:27</td>\n",
       "    </tr>\n",
       "    <tr>\n",
       "      <th rowspan=\"3\" valign=\"top\">train</th>\n",
       "      <th>0-200km</th>\n",
       "      <td>0 days 04:14:47.926348</td>\n",
       "    </tr>\n",
       "    <tr>\n",
       "      <th>201-800km</th>\n",
       "      <td>0 days 07:29:38.689523</td>\n",
       "    </tr>\n",
       "    <tr>\n",
       "      <th>800-2000km</th>\n",
       "      <td>0 days 12:44:19.821428</td>\n",
       "    </tr>\n",
       "  </tbody>\n",
       "</table>\n",
       "</div>"
      ],
      "text/plain": [
       "                                        duration\n",
       "transport_type category                         \n",
       "bus            0-200km    0 days 07:34:39.600000\n",
       "               201-800km  0 days 14:52:03.891617\n",
       "               800-2000km 1 days 03:13:17.919621\n",
       "carpooling     0-200km    0 days 01:58:37.389620\n",
       "               201-800km  0 days 04:46:50.371327\n",
       "               800-2000km 0 days 13:06:00.839160\n",
       "combiné        0-200km    0 days 04:45:20.240963\n",
       "               201-800km         0 days 10:41:27\n",
       "train          0-200km    0 days 04:14:47.926348\n",
       "               201-800km  0 days 07:29:38.689523\n",
       "               800-2000km 0 days 12:44:19.821428"
      ]
     },
     "execution_count": 32,
     "metadata": {},
     "output_type": "execute_result"
    }
   ],
   "source": [
    "durée_moyenne=pd.DataFrame(ticket_data.groupby([\"transport_type\",\"category\"])[\"duration\"].apply(lambda x: np.mean(x)))\n",
    "durée_moyenne"
   ]
  },
  {
   "cell_type": "markdown",
   "metadata": {},
   "source": [
    "## Interprétation et visualisation des résultats:\n",
    "On va commencer par donner des histogrammes des prix moyens et des durées moyennes en fonction de la distance et du type de transport"
   ]
  },
  {
   "cell_type": "code",
   "execution_count": 33,
   "metadata": {},
   "outputs": [
    {
     "data": {
      "text/plain": [
       "Text(37.58247395833334, 0.5, 'Prix moyens (cents)')"
      ]
     },
     "execution_count": 33,
     "metadata": {},
     "output_type": "execute_result"
    },
    {
     "data": {
      "image/png": "[encoded data removed]",
      "text/plain": [
       "<Figure size 448.5x360 with 1 Axes>"
      ]
     },
     "metadata": {
      "needs_background": "light"
     },
     "output_type": "display_data"
    }
   ],
   "source": [
    "hist=sns.catplot(x=\"category\",y=\"price_in_cents\",hue=\"transport_type\",kind=\"bar\",data=ticket_data,order=[\"0-200km\",\"201-800km\",\"800-2000km\"])\n",
    "plt.title(\"Prix moyens en fonction de la distance et du type de transport\")\n",
    "plt.xlabel(\"distance (km)\")\n",
    "plt.ylabel(\"Prix moyens (cents)\")"
   ]
  },
  {
   "cell_type": "code",
   "execution_count": 34,
   "metadata": {},
   "outputs": [
    {
     "data": {
      "text/plain": [
       "Text(39.14966145833334, 0.5, 'Durée (sec)')"
      ]
     },
     "execution_count": 34,
     "metadata": {},
     "output_type": "execute_result"
    },
    {
     "data": {
      "image/png": "[encoded data removed]",
      "text/plain": [
       "<Figure size 448.5x360 with 1 Axes>"
      ]
     },
     "metadata": {
      "needs_background": "light"
     },
     "output_type": "display_data"
    }
   ],
   "source": [
    "hist=sns.catplot(x=\"category\",y=\"duration_seconds\",hue=\"transport_type\",kind=\"bar\",data=result,order=[\"0-200km\",\"201-800km\",\"800-2000km\"])\n",
    "plt.title(\"Durée moyenne en fonction de la distance et du type de transport\")\n",
    "plt.xlabel(\"distance (km)\")\n",
    "plt.ylabel(\"Durée (sec)\")"
   ]
  },
  {
   "cell_type": "markdown",
   "metadata": {},
   "source": [
    "On remarque que le prix est proportionel à la distance  \n",
    "Le train est le plus cher que le bus mais est bien plus rapide aussi  \n",
    "Le covoiturage est rentable pour les petits et moyens trajets et reste efficace pour les longues distance en terme de rapport Durée/Prix  "
   ]
  },
  {
   "cell_type": "markdown",
   "metadata": {},
   "source": [
    "Nous allons maintenant essayer de trouver ce que l'on peut faire à partir de nos différentes datasets"
   ]
  },
  {
   "cell_type": "code",
   "execution_count": 35,
   "metadata": {},
   "outputs": [
    {
     "data": {
      "text/html": [
       "<div>\n",
       "<style scoped>\n",
       "    .dataframe tbody tr th:only-of-type {\n",
       "        vertical-align: middle;\n",
       "    }\n",
       "\n",
       "    .dataframe tbody tr th {\n",
       "        vertical-align: top;\n",
       "    }\n",
       "\n",
       "    .dataframe thead th {\n",
       "        text-align: right;\n",
       "    }\n",
       "</style>\n",
       "<table border=\"1\" class=\"dataframe\">\n",
       "  <thead>\n",
       "    <tr style=\"text-align: right;\">\n",
       "      <th></th>\n",
       "      <th>DepartureDay</th>\n",
       "      <th>id</th>\n",
       "    </tr>\n",
       "  </thead>\n",
       "  <tbody>\n",
       "    <tr>\n",
       "      <th>0</th>\n",
       "      <td>0</td>\n",
       "      <td>6310</td>\n",
       "    </tr>\n",
       "    <tr>\n",
       "      <th>1</th>\n",
       "      <td>1</td>\n",
       "      <td>2974</td>\n",
       "    </tr>\n",
       "    <tr>\n",
       "      <th>2</th>\n",
       "      <td>2</td>\n",
       "      <td>4749</td>\n",
       "    </tr>\n",
       "    <tr>\n",
       "      <th>3</th>\n",
       "      <td>3</td>\n",
       "      <td>5297</td>\n",
       "    </tr>\n",
       "    <tr>\n",
       "      <th>4</th>\n",
       "      <td>4</td>\n",
       "      <td>34466</td>\n",
       "    </tr>\n",
       "    <tr>\n",
       "      <th>5</th>\n",
       "      <td>5</td>\n",
       "      <td>10581</td>\n",
       "    </tr>\n",
       "    <tr>\n",
       "      <th>6</th>\n",
       "      <td>6</td>\n",
       "      <td>9791</td>\n",
       "    </tr>\n",
       "  </tbody>\n",
       "</table>\n",
       "</div>"
      ],
      "text/plain": [
       "   DepartureDay     id\n",
       "0             0   6310\n",
       "1             1   2974\n",
       "2             2   4749\n",
       "3             3   5297\n",
       "4             4  34466\n",
       "5             5  10581\n",
       "6             6   9791"
      ]
     },
     "execution_count": 35,
     "metadata": {},
     "output_type": "execute_result"
    }
   ],
   "source": [
    "ticket_data[\"DepartureDay\"]=departure.apply(lambda x: x.weekday())\n",
    "ticket_data[\"ArrivalDay\"]=arrival.apply(lambda x: x.weekday())\n",
    "res=ticket_data.groupby([\"DepartureDay\"])[\"id\"].count().reset_index()\n",
    "res"
   ]
  },
  {
   "cell_type": "code",
   "execution_count": 36,
   "metadata": {},
   "outputs": [
    {
     "data": {
      "text/plain": [
       "Text(-9.075000000000003, 0.5, 'Nombre')"
      ]
     },
     "execution_count": 36,
     "metadata": {},
     "output_type": "execute_result"
    },
    {
     "data": {
      "image/png": "[encoded data removed]",
      "text/plain": [
       "<Figure size 360x360 with 1 Axes>"
      ]
     },
     "metadata": {
      "needs_background": "light"
     },
     "output_type": "display_data"
    }
   ],
   "source": [
    "hist=sns.catplot(x=\"DepartureDay\",y=\"id\",kind=\"bar\",data=res)\n",
    "plt.xlabel(\"Jour de départ\")\n",
    "plt.ylabel(\"Nombre\")"
   ]
  },
  {
   "cell_type": "markdown",
   "metadata": {},
   "source": [
    "On remarque que la plupart des départs se font le vendredi"
   ]
  },
  {
   "cell_type": "code",
   "execution_count": 37,
   "metadata": {},
   "outputs": [
    {
     "data": {
      "text/html": [
       "<div>\n",
       "<style scoped>\n",
       "    .dataframe tbody tr th:only-of-type {\n",
       "        vertical-align: middle;\n",
       "    }\n",
       "\n",
       "    .dataframe tbody tr th {\n",
       "        vertical-align: top;\n",
       "    }\n",
       "\n",
       "    .dataframe thead th {\n",
       "        text-align: right;\n",
       "    }\n",
       "</style>\n",
       "<table border=\"1\" class=\"dataframe\">\n",
       "  <thead>\n",
       "    <tr style=\"text-align: right;\">\n",
       "      <th></th>\n",
       "      <th>ArrivalDay</th>\n",
       "      <th>id</th>\n",
       "    </tr>\n",
       "  </thead>\n",
       "  <tbody>\n",
       "    <tr>\n",
       "      <th>0</th>\n",
       "      <td>0</td>\n",
       "      <td>6963</td>\n",
       "    </tr>\n",
       "    <tr>\n",
       "      <th>1</th>\n",
       "      <td>1</td>\n",
       "      <td>3225</td>\n",
       "    </tr>\n",
       "    <tr>\n",
       "      <th>2</th>\n",
       "      <td>2</td>\n",
       "      <td>4838</td>\n",
       "    </tr>\n",
       "    <tr>\n",
       "      <th>3</th>\n",
       "      <td>3</td>\n",
       "      <td>4844</td>\n",
       "    </tr>\n",
       "    <tr>\n",
       "      <th>4</th>\n",
       "      <td>4</td>\n",
       "      <td>30138</td>\n",
       "    </tr>\n",
       "    <tr>\n",
       "      <th>5</th>\n",
       "      <td>5</td>\n",
       "      <td>14071</td>\n",
       "    </tr>\n",
       "    <tr>\n",
       "      <th>6</th>\n",
       "      <td>6</td>\n",
       "      <td>10089</td>\n",
       "    </tr>\n",
       "  </tbody>\n",
       "</table>\n",
       "</div>"
      ],
      "text/plain": [
       "   ArrivalDay     id\n",
       "0           0   6963\n",
       "1           1   3225\n",
       "2           2   4838\n",
       "3           3   4844\n",
       "4           4  30138\n",
       "5           5  14071\n",
       "6           6  10089"
      ]
     },
     "execution_count": 37,
     "metadata": {},
     "output_type": "execute_result"
    }
   ],
   "source": [
    "res1=ticket_data.groupby([\"ArrivalDay\"])[\"id\"].count().reset_index()\n",
    "res1"
   ]
  },
  {
   "cell_type": "code",
   "execution_count": 38,
   "metadata": {},
   "outputs": [
    {
     "data": {
      "text/plain": [
       "Text(-9.075000000000003, 0.5, 'Nombre')"
      ]
     },
     "execution_count": 38,
     "metadata": {},
     "output_type": "execute_result"
    },
    {
     "data": {
      "image/png": "[encoded data removed]",
      "text/plain": [
       "<Figure size 360x360 with 1 Axes>"
      ]
     },
     "metadata": {
      "needs_background": "light"
     },
     "output_type": "display_data"
    }
   ],
   "source": [
    "hist=sns.catplot(x=\"ArrivalDay\",y=\"id\",kind=\"bar\",data=res1)\n",
    "plt.xlabel(\"Jour d'arrivée'\")\n",
    "plt.ylabel(\"Nombre\")"
   ]
  },
  {
   "cell_type": "markdown",
   "metadata": {},
   "source": [
    "On remarque le la plupart des arrivées se font aussi le vendredi"
   ]
  },
  {
   "cell_type": "code",
   "execution_count": 39,
   "metadata": {},
   "outputs": [
    {
     "data": {
      "text/html": [
       "<div>\n",
       "<style scoped>\n",
       "    .dataframe tbody tr th:only-of-type {\n",
       "        vertical-align: middle;\n",
       "    }\n",
       "\n",
       "    .dataframe tbody tr th {\n",
       "        vertical-align: top;\n",
       "    }\n",
       "\n",
       "    .dataframe thead th {\n",
       "        text-align: right;\n",
       "    }\n",
       "</style>\n",
       "<table border=\"1\" class=\"dataframe\">\n",
       "  <thead>\n",
       "    <tr style=\"text-align: right;\">\n",
       "      <th></th>\n",
       "      <th>transport_type</th>\n",
       "      <th>id</th>\n",
       "    </tr>\n",
       "  </thead>\n",
       "  <tbody>\n",
       "    <tr>\n",
       "      <th>0</th>\n",
       "      <td>bus</td>\n",
       "      <td>13629</td>\n",
       "    </tr>\n",
       "    <tr>\n",
       "      <th>1</th>\n",
       "      <td>carpooling</td>\n",
       "      <td>41441</td>\n",
       "    </tr>\n",
       "    <tr>\n",
       "      <th>2</th>\n",
       "      <td>combiné</td>\n",
       "      <td>283</td>\n",
       "    </tr>\n",
       "    <tr>\n",
       "      <th>3</th>\n",
       "      <td>train</td>\n",
       "      <td>18815</td>\n",
       "    </tr>\n",
       "  </tbody>\n",
       "</table>\n",
       "</div>"
      ],
      "text/plain": [
       "  transport_type     id\n",
       "0            bus  13629\n",
       "1     carpooling  41441\n",
       "2        combiné    283\n",
       "3          train  18815"
      ]
     },
     "execution_count": 39,
     "metadata": {},
     "output_type": "execute_result"
    }
   ],
   "source": [
    "res2=ticket_data.groupby([\"transport_type\"])[\"id\"].count().reset_index()\n",
    "res2"
   ]
  },
  {
   "cell_type": "code",
   "execution_count": 40,
   "metadata": {},
   "outputs": [
    {
     "data": {
      "text/plain": [
       "Text(-9.075000000000003, 0.5, 'Nombre')"
      ]
     },
     "execution_count": 40,
     "metadata": {},
     "output_type": "execute_result"
    },
    {
     "data": {
      "image/png": "[encoded data removed]",
      "text/plain": [
       "<Figure size 360x360 with 1 Axes>"
      ]
     },
     "metadata": {
      "needs_background": "light"
     },
     "output_type": "display_data"
    }
   ],
   "source": [
    "hist=sns.catplot(x=\"transport_type\",y=\"id\",kind=\"bar\",data=res2)\n",
    "plt.xlabel(\"Type de transport\")\n",
    "plt.ylabel(\"Nombre\")"
   ]
  },
  {
   "cell_type": "markdown",
   "metadata": {},
   "source": [
    "Le covoiturage est donc le moyen de transport le plus utilisé. La combinaison train bus est peu utilisée"
   ]
  },
  {
   "cell_type": "markdown",
   "metadata": {},
   "source": [
    "## Conclusion:  \n",
    "Les datasets proposées sont très intéressantes. On peut on extraire d'avantage d'interprétations tel que la relation entre le prix et la data de recherche du ticket ainsi que le prix et la présence de sièges ajustable de wifi ou de prises.\n",
    "On peut aussi à partir des datasets implémenter un modèle supervisé de prédiction des prix. Ceci peut s'avèrer particulièrement interessante pour pouvoir prédir quand faire la recherche pour avoir le meilleur prix. \n",
    "### Conclusion personnelle:\n",
    "Cet exercice fut vraiment fun à faire. Ca change vraiment des tests techniques que je vois en cette période et je vous en remercie. Cela m'a permit aussi de faire plus de recherches sur l'entreprise pour comprendre l'ambiguité des données."
   ]
  },
  {
   "cell_type": "code",
   "execution_count": null,
   "metadata": {},
   "outputs": [],
   "source": []
  },
  {
   "cell_type": "code",
   "execution_count": null,
   "metadata": {},
   "outputs": [],
   "source": []
  }
 ],
 "metadata": {
  "kernelspec": {
   "display_name": "Python 3",
   "language": "python",
   "name": "python3"
  },
  "language_info": {
   "codemirror_mode": {
    "name": "ipython",
    "version": 3
   },
   "file_extension": ".py",
   "mimetype": "text/x-python",
   "name": "python",
   "nbconvert_exporter": "python",
   "pygments_lexer": "ipython3",
   "version": "3.8.3"
  }
 },
 "nbformat": 4,
 "nbformat_minor": 4
}
